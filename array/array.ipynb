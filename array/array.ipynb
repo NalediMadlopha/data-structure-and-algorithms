{
 "cells": [
  {
   "cell_type": "markdown",
   "metadata": {},
   "source": [
    "# Arrays\n",
    "\n",
    "## What is an Array?\n",
    "\n",
    "An array is the simplest data structure which stores data elements of the same type. Each element can be accessed directly by using its index number.\n",
    "\n",
    "#### Advantages\n",
    "\n",
    "- Random access\n",
    "- Easy sorting and iteration\n",
    "- Replacement of multiple variables\n",
    "\n",
    "#### Disadvantages\n",
    "\n",
    "- Size is fixed\n",
    "- Difficult to insert and delete\n",
    "- If capacity is more and occupancy is less, most of the array gets wasted\n",
    "- Needs contiguous memory to get allocated\n",
    "\n",
    "#### Applications\n",
    "\n",
    "- For storing information in a linear fashion\n",
    "- Suitable for applications that require frequenct searching\n",
    "\n"
   ]
  },
  {
   "cell_type": "markdown",
   "metadata": {},
   "source": [
    "__NB: This code will not run on this notebook__"
   ]
  },
  {
   "cell_type": "code",
   "execution_count": null,
   "metadata": {
    "vscode": {
     "languageId": "java"
    }
   },
   "outputs": [],
   "source": [
    "import java.util.*;\n",
    "\n",
    "class Solution() {\n",
    "\n",
    "\tpublic static void main(String[] args) {\n",
    "\t\tint[] arr = new int[0];\n",
    "\n",
    "\t\tScanner in = new Scanner(System.in);\n",
    "\n",
    "\t\tfor (int i = 0; i < arr.length; i++) {\n",
    "\t\t\tarr[i] = in.nextInt();\n",
    "\t\t}\n",
    "\n",
    "\t\tfor (int i = 0; i < arr.length; i++) {\n",
    "\t\t\tSystem.out.print(arr[i] + \" \")\n",
    "\t\t}\n",
    "\t}\n",
    "\n",
    "}"
   ]
  },
  {
   "cell_type": "raw",
   "metadata": {},
   "source": []
  }
 ],
 "metadata": {
  "kernelspec": {
   "display_name": "Python 3.8.10 64-bit",
   "language": "python",
   "name": "python3"
  },
  "language_info": {
   "codemirror_mode": {
    "name": "ipython",
    "version": 3
   },
   "file_extension": ".py",
   "mimetype": "text/x-python",
   "name": "python",
   "nbconvert_exporter": "python",
   "pygments_lexer": "ipython3",
   "version": "3.8.10"
  },
  "orig_nbformat": 4,
  "vscode": {
   "interpreter": {
    "hash": "916dbcbb3f70747c44a77c7bcd40155683ae19c65e1c03b4aa3499c5328201f1"
   }
  }
 },
 "nbformat": 4,
 "nbformat_minor": 2
}
