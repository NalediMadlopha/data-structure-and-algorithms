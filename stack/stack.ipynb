{
 "cells": [
  {
   "cell_type": "code",
   "execution_count": 1,
   "metadata": {},
   "outputs": [],
   "source": [
    "class Stack:\n",
    "\n",
    "\tdef __init__(self):\n",
    "\t\tself.elements = []\n",
    "\n",
    "\n",
    "\tdef push(self, element):\n",
    "\t\tself.elements.append(element)\n",
    "\n",
    "\n",
    "\tdef pop(self):\n",
    "\t\treturn self.elements.pop()\n",
    "\n",
    "\n",
    "\tdef peek(self):\n",
    "\t\tif not self.is_empty():\n",
    "\t\t\treturn self.elements[-1]\n",
    "\n",
    "\tdef is_empty(self):\n",
    "\t\treturn len(self.elements) == 0\n",
    "\n",
    "\tdef print(self):\n",
    "\t\tprint(self.elements)\n",
    "\n"
   ]
  },
  {
   "cell_type": "code",
   "execution_count": 2,
   "metadata": {},
   "outputs": [
    {
     "data": {
      "text/plain": [
       "2"
      ]
     },
     "execution_count": 2,
     "metadata": {},
     "output_type": "execute_result"
    }
   ],
   "source": [
    "stack = Stack()\n",
    "\n",
    "stack.push(0)\n",
    "stack.push(1)\n",
    "stack.push(2)\n",
    "stack.push(3)\n",
    "\n",
    "stack.peek() # print 3\n",
    "stack.pop() # pop 3\n",
    "\n",
    "stack.peek() # print 2\n",
    "stack.pop() # pop 2\n"
   ]
  },
  {
   "cell_type": "code",
   "execution_count": null,
   "metadata": {},
   "outputs": [],
   "source": []
  }
 ],
 "metadata": {
  "kernelspec": {
   "display_name": "Python 3.8.10 64-bit",
   "language": "python",
   "name": "python3"
  },
  "language_info": {
   "codemirror_mode": {
    "name": "ipython",
    "version": 3
   },
   "file_extension": ".py",
   "mimetype": "text/x-python",
   "name": "python",
   "nbconvert_exporter": "python",
   "pygments_lexer": "ipython3",
   "version": "3.8.10"
  },
  "orig_nbformat": 4,
  "vscode": {
   "interpreter": {
    "hash": "916dbcbb3f70747c44a77c7bcd40155683ae19c65e1c03b4aa3499c5328201f1"
   }
  }
 },
 "nbformat": 4,
 "nbformat_minor": 2
}
