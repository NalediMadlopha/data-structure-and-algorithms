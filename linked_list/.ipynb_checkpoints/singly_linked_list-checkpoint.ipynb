{
 "cells": [
  {
   "cell_type": "markdown",
   "id": "bc3b91ab",
   "metadata": {},
   "source": [
    "# Linked List\n",
    "\n",
    "#### What is a Linked List?\n",
    "\n",
    "Linked List  is a linear collection of data elements whose order is not given by their physical placement in memory. Instead, each element points to the next. It is a data structure consisting of a collection of nodes which together represent a sequence.\n",
    "\n",
    "#### Advantages\n",
    "\n",
    "- Dynamic in size\n",
    "- No wastage, as capacity and size is always equal\n",
    "- Easy insertion and deletion as 1 link manipulation is required\n",
    "- Efficient memory allocation\n",
    "\n",
    "#### Disadvantages\n",
    "\n",
    "- If head Node is lost, the linked list is lost\n",
    "- No random access is possible\n",
    "\n",
    "#### Applications\n",
    "\n",
    "- Suitable where memory is limited\n",
    "- Suitable for applications that require frequent insertion and deletion"
   ]
  },
  {
   "cell_type": "markdown",
   "id": "472d422b",
   "metadata": {},
   "source": [
    "#### Python Code:"
   ]
  },
  {
   "cell_type": "code",
   "execution_count": 1,
   "id": "35f129a3",
   "metadata": {},
   "outputs": [],
   "source": [
    "class Node():\n",
    "\n",
    "    def __init__(self, data):\n",
    "        self.data = data\n",
    "        self.next = None\n",
    "\n",
    "\n",
    "class SinglyLinkedList():\n",
    "\n",
    "    def __init__(self):\n",
    "        self.head = None\n",
    "\n",
    "    # Traverse\n",
    "    def print(self):\n",
    "        current = self.head\n",
    "\n",
    "        while current is not None:\n",
    "            print(current.data)\n",
    "            current = current.next\n",
    "            \n",
    "    # Insertion at the beginning of the list\n",
    "    def prefix(self, data):\n",
    "        node = Node(data)\n",
    "        node.next = self.head\n",
    "        self.head = node\n",
    "        \n",
    "    # Insertion in the middle of the list\n",
    "    \n",
    "    # Insertion at the end of the list"
   ]
  },
  {
   "cell_type": "code",
   "execution_count": 7,
   "id": "2913639b",
   "metadata": {},
   "outputs": [],
   "source": [
    "list = SinglyLinkedList()\n",
    "list.head = Node(\"Mon\")\n",
    "e2 = Node(\"Tue\")\n",
    "e3 = Node(\"Wed\")\n",
    "list.head.next = e2\n",
    "e2.next = e3\n",
    "\n",
    "list.prefix(\"Sun\")"
   ]
  },
  {
   "cell_type": "code",
   "execution_count": 8,
   "id": "5371c8b6",
   "metadata": {},
   "outputs": [
    {
     "name": "stdout",
     "output_type": "stream",
     "text": [
      "Sun\n",
      "Mon\n",
      "Tue\n",
      "Wed\n"
     ]
    }
   ],
   "source": [
    "list.print()"
   ]
  },
  {
   "cell_type": "markdown",
   "id": "b49c6a2d",
   "metadata": {},
   "source": [
    "#### Java Code:"
   ]
  },
  {
   "cell_type": "code",
   "execution_count": null,
   "id": "09eda792",
   "metadata": {},
   "outputs": [],
   "source": [
    "public class SinglyLinkedList {\n",
    "\n",
    "    Node head;\n",
    "\n",
    "    // Insertion at the beginning of the list\n",
    "    public void prefix(int data) {\n",
    "        Node node = new Node(data);\n",
    "        node.next = this.head;\n",
    "        this.head = node;\n",
    "    }\n",
    "\n",
    "    // Insertion in the middle of the list\n",
    "    public void insert(int data, Node previousNode) {\n",
    "        Node newNode = new Node(data);\n",
    "\n",
    "        newNode.next = previousNode.next;\n",
    "        previousNode.next = newNode;\n",
    "    }\n",
    "\n",
    "    // Insertion at the end of the list\n",
    "    public void append(int data) {\n",
    "        Node newNode = new Node(data);\n",
    "\n",
    "        if (this.head == null) {\n",
    "            this.head = newNode;\n",
    "            return;\n",
    "        }\n",
    "\n",
    "        Node currentNode = this.head;\n",
    "        while (currentNode.next != null) {\n",
    "            currentNode = currentNode.next;\n",
    "        }\n",
    "        currentNode.next = newNode;\n",
    "    }\n",
    "\n",
    "    // Traverse\n",
    "    public void print() {\n",
    "        Node node = this.head;\n",
    "        while (node != null) {\n",
    "            System.out.print(node.data + \" \");\n",
    "            node = node.next;\n",
    "        }\n",
    "    }\n",
    "\n",
    "    public static void main(String[] args) {\n",
    "        SinglyLinkedList linkedList = new SinglyLinkedList();\n",
    "\n",
    "        Node node0 = new Node(0);\n",
    "        Node node1 = new Node(1);\n",
    "        Node node3 = new Node(3);\n",
    "        Node node4 = new Node(4);\n",
    "\n",
    "        node0.next = node1;\n",
    "        node1.next = node3;\n",
    "        node3.next = node4;\n",
    "        linkedList.head = node0;\n",
    "\n",
    "        linkedList.insert(2, node1);\n",
    "        linkedList.append(5);\n",
    "        linkedList.append(6);\n",
    "\n",
    "        linkedList.print();\n",
    "    }\n",
    "}\n",
    "\n",
    "class Node {\n",
    "    int data;\n",
    "    Node next;\n",
    "    Node(int data) {\n",
    "        this.data = data;\n",
    "        this.next = null;\n",
    "    }\n",
    "}"
   ]
  },
  {
   "cell_type": "code",
   "execution_count": null,
   "id": "17f5024f",
   "metadata": {},
   "outputs": [],
   "source": []
  }
 ],
 "metadata": {
  "kernelspec": {
   "display_name": "Python 3.8.10 64-bit",
   "language": "python",
   "name": "python3"
  },
  "language_info": {
   "codemirror_mode": {
    "name": "ipython",
    "version": 3
   },
   "file_extension": ".py",
   "mimetype": "text/x-python",
   "name": "python",
   "nbconvert_exporter": "python",
   "pygments_lexer": "ipython3",
   "version": "3.8.10"
  },
  "vscode": {
   "interpreter": {
    "hash": "916dbcbb3f70747c44a77c7bcd40155683ae19c65e1c03b4aa3499c5328201f1"
   }
  }
 },
 "nbformat": 4,
 "nbformat_minor": 5
}
