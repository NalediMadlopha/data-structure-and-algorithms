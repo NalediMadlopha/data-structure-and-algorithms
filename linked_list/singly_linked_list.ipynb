{
 "cells": [
  {
   "cell_type": "code",
   "execution_count": 32,
   "id": "35f129a3",
   "metadata": {},
   "outputs": [],
   "source": [
    "class Node():\n",
    "\n",
    "    def __init__(self, data):\n",
    "        self.data = data\n",
    "        self.next = None\n",
    "\n",
    "\n",
    "class SinglyLinkedList():\n",
    "\n",
    "    def __init__(self):\n",
    "        self.head = None\n",
    "\n",
    "    # Traverse\n",
    "    def print(self):\n",
    "        current = self.head\n",
    "\n",
    "        while current is not None:\n",
    "            print(current.data)\n",
    "            current = current.next\n",
    "            \n",
    "    # Insertion at the beginning of the list\n",
    "    def prefix(self, data):\n",
    "        node = Node(data)\n",
    "        node.next = self.head\n",
    "        self.head = node\n",
    "        \n",
    "    # Insertion in the middle of the list\n",
    "    def insert(self, previous_node, data):\n",
    "        node = Node(data)\n",
    "        node.next = previous_node.next\n",
    "        previous_node.next = node\n",
    "    \n",
    "    # Insertion at the end of the list\n",
    "    def append(self, data):\n",
    "        node = Node(data)\n",
    "        current = self.head\n",
    "        \n",
    "        if current is not None:\n",
    "            while current.next is not None:\n",
    "                current = current.next\n",
    "            current.next = node\n",
    "        else:\n",
    "            current = node\n",
    "            \n",
    "        "
   ]
  },
  {
   "cell_type": "code",
   "execution_count": 33,
   "id": "2913639b",
   "metadata": {},
   "outputs": [
    {
     "name": "stdout",
     "output_type": "stream",
     "text": [
      "Mon\n",
      "Tue\n",
      "Wed\n",
      "Fri\n"
     ]
    }
   ],
   "source": [
    "list = SinglyLinkedList()\n",
    "list.head = Node(\"Mon\")\n",
    "\n",
    "tue = Node(\"Tue\")\n",
    "wed = Node(\"Wed\")\n",
    "fri = Node(\"Fri\")\n",
    "\n",
    "list.head.next = tue\n",
    "tue.next = wed\n",
    "wed.next = fri\n",
    "\n",
    "list.print()"
   ]
  },
  {
   "cell_type": "code",
   "execution_count": 34,
   "id": "5371c8b6",
   "metadata": {},
   "outputs": [
    {
     "name": "stdout",
     "output_type": "stream",
     "text": [
      "Sun\n",
      "Mon\n",
      "Tue\n",
      "Wed\n",
      "Thu\n",
      "Fri\n",
      "Sat\n"
     ]
    }
   ],
   "source": [
    "list.prefix(\"Sun\")\n",
    "list.insert(wed, \"Thu\")\n",
    "list.append(\"Sat\")\n",
    "list.print()"
   ]
  },
  {
   "cell_type": "code",
   "execution_count": null,
   "id": "7c93666c",
   "metadata": {},
   "outputs": [],
   "source": []
  }
 ],
 "metadata": {
  "kernelspec": {
   "display_name": "Python 3 (ipykernel)",
   "language": "python",
   "name": "python3"
  },
  "language_info": {
   "codemirror_mode": {
    "name": "ipython",
    "version": 3
   },
   "file_extension": ".py",
   "mimetype": "text/x-python",
   "name": "python",
   "nbconvert_exporter": "python",
   "pygments_lexer": "ipython3",
   "version": "3.10.4"
  }
 },
 "nbformat": 4,
 "nbformat_minor": 5
}
